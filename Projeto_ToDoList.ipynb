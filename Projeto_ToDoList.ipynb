{
 "cells": [
  {
   "cell_type": "code",
   "execution_count": 1,
   "metadata": {},
   "outputs": [],
   "source": [
    "import csv \n",
    "\n",
    "class Lista_Tarefas:\n",
    "    # metodo construtor\n",
    "    def __init__(self):\n",
    "        # ainda pendente\n",
    "        pass\n",
    "        \n",
    "    \n",
    "    # metodo para procurar tarefa\n",
    "    def _procurar_tarefa(self, titulo):\n",
    "        with open('tarefas.csv') as arquivo:\n",
    "            leitor = csv.reader(arquivo, delimiter=';', lineterminator='\\n')\n",
    "            for linha in leitor:\n",
    "                if linha[0].strip().lower() == titulo.strip().lower():\n",
    "                    return titulo\n",
    "        return None\n",
    "\n",
    "    # metodo para adicionar tarefa    \n",
    "    def adicionar_tarefa(self, titulo, data):\n",
    "        tarefa_procurada = self._procurar_tarefa(titulo)\n",
    "        if tarefa_procurada:\n",
    "            return 'Tarefa já existente!'\n",
    "        with open('tarefas.csv') as arquivo_leitura:\n",
    "            conteudo_leitor = list(csv.reader(arquivo_leitura, delimiter=';', lineterminator='\\n'))\n",
    "        with open('tarefas.csv', 'w') as arquivo:\n",
    "            escritor = csv.writer(arquivo, delimiter=';', lineterminator='\\n')\n",
    "            escritor.writerows(conteudo_leitor)\n",
    "            escritor.writerow([titulo, data, 'Pendente']) \n",
    "        return f'Tarefa {titulo} adicionada com sucesso!'\n",
    "\n",
    "    # metodo para alterar status de tarefa\n",
    "    def alterar_status_tarefa(self, titulo):\n",
    "        tarefa_procurada = self._procurar_tarefa(titulo)\n",
    "        if tarefa_procurada:\n",
    "            with open('tarefas.csv') as arquivo_leitura:\n",
    "                leitor = list(csv.reader(arquivo_leitura, delimiter=';', lineterminator='\\n'))\n",
    "                for linha in leitor:\n",
    "                    if linha[0].strip().lower() == titulo.strip().lower():            \n",
    "                        if linha[2] == 'Pendente':                        \n",
    "                            linha[2] = 'Concluída'\n",
    "                            novo_status = 'Concluída'\n",
    "                        else:\n",
    "                            linha[2] = 'Pendente'\n",
    "                            novo_status = 'Pendente'\n",
    "            with open('tarefas.csv', 'w') as arquivo_escrita:\n",
    "                escritor = csv.writer(arquivo_escrita, delimiter=';', lineterminator='\\n')\n",
    "                escritor.writerows(leitor)\n",
    "            return f'Status da Tarefa {tarefa_procurada} atualizado para **{novo_status}**!'\n",
    "        return 'Tarefa não encontrada'         \n",
    "\n",
    "    # metodo para remover tarefa\n",
    "    def remover_tarefa(self, titulo):\n",
    "        tarefa_procurada = self._procurar_tarefa(titulo)\n",
    "        if tarefa_procurada:\n",
    "            with open('tarefas.csv') as arquivo_leitura:\n",
    "                leitor = list(csv.reader(arquivo_leitura, delimiter=';', lineterminator='\\n'))\n",
    "            with open('tarefas.csv', 'w') as arquivo_escrita:\n",
    "                escritor = csv.writer(arquivo_escrita, delimiter=';', lineterminator='\\n')\n",
    "                for linha in leitor:\n",
    "                    if linha[0].strip().lower() != titulo.strip().lower():\n",
    "                        escritor.writerow(linha)\n",
    "            return f'A Tarefa {tarefa_procurada} foi removida!'\n",
    "        return 'Tarefa não encontrada'\n",
    "\n",
    "    # metodo para visualizar tarefas\n",
    "    def visualizar_tarefas(self,data):\n",
    "        tarefas_dia =[]\n",
    "        with open('tarefas.csv') as arquivo_leitura:\n",
    "            leitor = list(csv.reader(arquivo_leitura, delimiter=';', lineterminator='\\n'))\n",
    "            for linha in leitor:\n",
    "                if linha[1].strip() == data.strip():\n",
    "                    tarefas_dia.append(linha)\n",
    "        return tarefas_dia\n",
    "        \n",
    "    def __repr__(self):\n",
    "        return 'Em implementação...'"
   ]
  },
  {
   "cell_type": "code",
   "execution_count": 2,
   "metadata": {},
   "outputs": [
    {
     "data": {
      "text/plain": [
       "Em implementação..."
      ]
     },
     "execution_count": 2,
     "metadata": {},
     "output_type": "execute_result"
    }
   ],
   "source": [
    "lista2 = Lista_Tarefas()\n",
    "lista2"
   ]
  },
  {
   "cell_type": "code",
   "execution_count": 3,
   "metadata": {},
   "outputs": [],
   "source": [
    "lista2._procurar_tarefa('123')"
   ]
  },
  {
   "cell_type": "code",
   "execution_count": 4,
   "metadata": {},
   "outputs": [
    {
     "data": {
      "text/plain": [
       "'Tarefa asdad adicionada com sucesso!'"
      ]
     },
     "execution_count": 4,
     "metadata": {},
     "output_type": "execute_result"
    }
   ],
   "source": [
    "lista2.adicionar_tarefa('asdad','3')"
   ]
  },
  {
   "cell_type": "code",
   "execution_count": 5,
   "metadata": {},
   "outputs": [
    {
     "data": {
      "text/plain": [
       "'Tarefa já existente!'"
      ]
     },
     "execution_count": 5,
     "metadata": {},
     "output_type": "execute_result"
    }
   ],
   "source": [
    "lista2.adicionar_tarefa('dadadda','4')"
   ]
  },
  {
   "cell_type": "code",
   "execution_count": 6,
   "metadata": {},
   "outputs": [
    {
     "data": {
      "text/plain": [
       "'asdad'"
      ]
     },
     "execution_count": 6,
     "metadata": {},
     "output_type": "execute_result"
    }
   ],
   "source": [
    "lista2._procurar_tarefa('asdad')"
   ]
  },
  {
   "cell_type": "code",
   "execution_count": 7,
   "metadata": {},
   "outputs": [
    {
     "data": {
      "text/plain": [
       "'Status da Tarefa asdad atualizado para **Concluída**!'"
      ]
     },
     "execution_count": 7,
     "metadata": {},
     "output_type": "execute_result"
    }
   ],
   "source": [
    "lista2.alterar_status_tarefa('asdad')"
   ]
  },
  {
   "cell_type": "code",
   "execution_count": 8,
   "metadata": {},
   "outputs": [
    {
     "data": {
      "text/plain": [
       "'Status da Tarefa dadadda atualizado para **Concluída**!'"
      ]
     },
     "execution_count": 8,
     "metadata": {},
     "output_type": "execute_result"
    }
   ],
   "source": [
    "lista2.alterar_status_tarefa('dadadda')"
   ]
  },
  {
   "cell_type": "code",
   "execution_count": 9,
   "metadata": {},
   "outputs": [
    {
     "data": {
      "text/plain": [
       "'A Tarefa asdad foi removida!'"
      ]
     },
     "execution_count": 9,
     "metadata": {},
     "output_type": "execute_result"
    }
   ],
   "source": [
    "lista2.remover_tarefa('asdad')"
   ]
  },
  {
   "cell_type": "code",
   "execution_count": 10,
   "metadata": {},
   "outputs": [
    {
     "data": {
      "text/plain": [
       "[['dadadda', '4', 'Concluída'], ['cadada', '4', 'Pendente']]"
      ]
     },
     "execution_count": 10,
     "metadata": {},
     "output_type": "execute_result"
    }
   ],
   "source": [
    "lista2.visualizar_tarefas('4')"
   ]
  },
  {
   "cell_type": "code",
   "execution_count": 11,
   "metadata": {},
   "outputs": [
    {
     "data": {
      "text/plain": [
       "'Tarefa já existente!'"
      ]
     },
     "execution_count": 11,
     "metadata": {},
     "output_type": "execute_result"
    }
   ],
   "source": [
    "lista2.adicionar_tarefa('cadada', '4')"
   ]
  },
  {
   "cell_type": "code",
   "execution_count": 12,
   "metadata": {},
   "outputs": [
    {
     "data": {
      "text/plain": [
       "[['dadadda', '4', 'Concluída'], ['cadada', '4', 'Pendente']]"
      ]
     },
     "execution_count": 12,
     "metadata": {},
     "output_type": "execute_result"
    }
   ],
   "source": [
    "lista2.visualizar_tarefas('4')"
   ]
  },
  {
   "cell_type": "code",
   "execution_count": 33,
   "metadata": {},
   "outputs": [
    {
     "data": {
      "text/plain": [
       "'Tarefa cadadasdada adicionada com sucesso!'"
      ]
     },
     "execution_count": 33,
     "metadata": {},
     "output_type": "execute_result"
    }
   ],
   "source": [
    "lista2.adicionar_tarefa('cadadasdada', '3')"
   ]
  },
  {
   "cell_type": "code",
   "execution_count": 34,
   "metadata": {},
   "outputs": [
    {
     "data": {
      "text/plain": [
       "[['dadadda', '4', 'Pendente'], ['cadada', '4', 'Pendente']]"
      ]
     },
     "execution_count": 34,
     "metadata": {},
     "output_type": "execute_result"
    }
   ],
   "source": [
    "lista2.visualizar_tarefas('4')"
   ]
  },
  {
   "cell_type": "code",
   "execution_count": null,
   "metadata": {},
   "outputs": [],
   "source": []
  }
 ],
 "metadata": {
  "interpreter": {
   "hash": "f1cf30719646796bd6e1a0c7e8c5e807899a1bd0a09b180b5f8289a9fceb4b09"
  },
  "kernelspec": {
   "display_name": "Python 3.9.5 64-bit ('base': conda)",
   "language": "python",
   "name": "python3"
  },
  "language_info": {
   "codemirror_mode": {
    "name": "ipython",
    "version": 3
   },
   "file_extension": ".py",
   "mimetype": "text/x-python",
   "name": "python",
   "nbconvert_exporter": "python",
   "pygments_lexer": "ipython3",
   "version": "3.9.5"
  },
  "orig_nbformat": 4
 },
 "nbformat": 4,
 "nbformat_minor": 2
}
